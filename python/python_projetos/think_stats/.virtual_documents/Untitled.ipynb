import nsfg


dct_file = "2002FemPreg.dct"
dat_file = "2002FemPreg.dat.gz"


preg = nsfg.ReadFemPreg(dct_file='2002FemPreg.dct',
                dat_file='2002FemPreg.dat.gz')


preg


preg.head()


preg.columns


pregordr = preg["pregordr"]
type(pregordr)


pregordr


preg.pregordr


preg["outcome"]


preg.outcome.value_counts()





preg.outcome.value_counts().sort_index()



